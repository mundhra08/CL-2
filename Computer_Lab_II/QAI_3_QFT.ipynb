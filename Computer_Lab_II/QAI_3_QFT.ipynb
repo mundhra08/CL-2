{
 "cells": [
  {
   "cell_type": "code",
   "execution_count": 13,
   "metadata": {},
   "outputs": [],
   "source": [
    "from qiskit import QuantumRegister, ClassicalRegister\n",
    "from qiskit import QuantumCircuit, execute,IBMQ, execute\n",
    "from qiskit.tools.monitor import job_monitor\n",
    "from qiskit import Aer\n",
    "from qiskit.tools.jupyter.library import _generate_circuit_library_visualization\n",
    "from qiskit.circuit.library import QFT\n",
    "import numpy as np"
   ]
  },
  {
   "cell_type": "code",
   "execution_count": 14,
   "metadata": {},
   "outputs": [],
   "source": [
    "pi = np.pi"
   ]
  },
  {
   "cell_type": "code",
   "execution_count": 15,
   "metadata": {},
   "outputs": [],
   "source": [
    "backend = Aer.get_backend('statevector_simulator')"
   ]
  },
  {
   "cell_type": "code",
   "execution_count": 23,
   "metadata": {},
   "outputs": [
    {
     "name": "stderr",
     "output_type": "stream",
     "text": [
      "C:\\Users\\Samarth\\AppData\\Local\\Temp\\ipykernel_22076\\2899627844.py:9: UserWarning: FigureCanvasAgg is non-interactive, and thus cannot be shown\n",
      "  circuit.draw(output=\"mpl\", filename=\"qft1.png\").show()\n"
     ]
    }
   ],
   "source": [
    "q = QuantumRegister(5,'q')\n",
    "c = ClassicalRegister(5,'c')\n",
    "circuit = QuantumCircuit(q,c)\n",
    "circuit.x(q[4])\n",
    "circuit.x(q[2])\n",
    "circuit.x(q[0])\n",
    "circuit &= QFT(num_qubits=5, approximation_degree=0, do_swaps=True,inverse=False,insert_barriers=False, name=\"qft\")\n",
    "circuit.measure(q,c)\n",
    "circuit.draw(output=\"mpl\", filename=\"qft1.png\").show()"
   ]
  },
  {
   "cell_type": "code",
   "execution_count": 17,
   "metadata": {},
   "outputs": [
    {
     "name": "stdout",
     "output_type": "stream",
     "text": [
      "     ┌───┐┌──────┐┌─┐            \n",
      "q_0: ┤ X ├┤0     ├┤M├────────────\n",
      "     └───┘│      │└╥┘┌─┐         \n",
      "q_1: ─────┤1     ├─╫─┤M├─────────\n",
      "     ┌───┐│      │ ║ └╥┘┌─┐      \n",
      "q_2: ┤ X ├┤2 qft ├─╫──╫─┤M├──────\n",
      "     └───┘│      │ ║  ║ └╥┘┌─┐   \n",
      "q_3: ─────┤3     ├─╫──╫──╫─┤M├───\n",
      "     ┌───┐│      │ ║  ║  ║ └╥┘┌─┐\n",
      "q_4: ┤ X ├┤4     ├─╫──╫──╫──╫─┤M├\n",
      "     └───┘└──────┘ ║  ║  ║  ║ └╥┘\n",
      "c: 5/══════════════╩══╩══╩══╩══╩═\n",
      "                   0  1  2  3  4 \n",
      "Job Status: job has successfully run\n",
      "\n",
      " QFT Output\n",
      "-------------\n",
      "{'10110': 30, '11111': 32, '11001': 30, '00000': 32, '00110': 31, '01111': 47, '11100': 40, '01001': 31, '00010': 23, '10001': 25, '11110': 39, '01011': 37, '10011': 33, '01000': 37, '00111': 29, '10000': 28, '00001': 36, '01101': 28, '01010': 30, '01110': 31, '11011': 27, '00100': 31, '11010': 29, '10101': 27, '11000': 32, '11101': 38, '00101': 26, '10111': 21, '01100': 35, '10010': 23, '10100': 39, '00011': 23}\n"
     ]
    }
   ],
   "source": [
    "print(circuit)\n",
    "job = execute(circuit, backend, shots=1000)\n",
    "job_monitor(job)\n",
    "counts = job.result().get_counts()\n",
    "print(\"\\n QFT Output\")\n",
    "print(\"-------------\")\n",
    "print(counts)"
   ]
  },
  {
   "cell_type": "code",
   "execution_count": 22,
   "metadata": {},
   "outputs": [
    {
     "data": {
      "image/png": "[encoded data removed]",
      "text/plain": [
       "<Figure size 872.774x535.111 with 1 Axes>"
      ]
     },
     "execution_count": 22,
     "metadata": {},
     "output_type": "execute_result"
    }
   ],
   "source": [
    "q = QuantumRegister(5,'q')\n",
    "c = ClassicalRegister(5,'c')\n",
    "circuit = QuantumCircuit(q,c)\n",
    "circuit.x(q[4])\n",
    "circuit.x(q[2])\n",
    "circuit.x(q[0])\n",
    "circuit &= QFT(num_qubits=5, approximation_degree=0, do_swaps=True, inverse=False, insert_barriers=True, name='qft')\n",
    "circuit &= QFT(num_qubits=5, approximation_degree=0, do_swaps=True, inverse=True, insert_barriers=True, name='qft')\n",
    "circuit.measure(q,c)\n",
    "circuit.draw(output='mpl',filename='qft2.png')"
   ]
  },
  {
   "cell_type": "code",
   "execution_count": 19,
   "metadata": {},
   "outputs": [
    {
     "name": "stdout",
     "output_type": "stream",
     "text": [
      "     ┌───┐┌──────┐┌─────────┐┌─┐            \n",
      "q_0: ┤ X ├┤0     ├┤0        ├┤M├────────────\n",
      "     └───┘│      ││         │└╥┘┌─┐         \n",
      "q_1: ─────┤1     ├┤1        ├─╫─┤M├─────────\n",
      "     ┌───┐│      ││         │ ║ └╥┘┌─┐      \n",
      "q_2: ┤ X ├┤2 qft ├┤2 qft_dg ├─╫──╫─┤M├──────\n",
      "     └───┘│      ││         │ ║  ║ └╥┘┌─┐   \n",
      "q_3: ─────┤3     ├┤3        ├─╫──╫──╫─┤M├───\n",
      "     ┌───┐│      ││         │ ║  ║  ║ └╥┘┌─┐\n",
      "q_4: ┤ X ├┤4     ├┤4        ├─╫──╫──╫──╫─┤M├\n",
      "     └───┘└──────┘└─────────┘ ║  ║  ║  ║ └╥┘\n",
      "c: 5/═════════════════════════╩══╩══╩══╩══╩═\n",
      "                              0  1  2  3  4 \n"
     ]
    }
   ],
   "source": [
    "print(circuit)"
   ]
  },
  {
   "cell_type": "code",
   "execution_count": 20,
   "metadata": {},
   "outputs": [
    {
     "name": "stdout",
     "output_type": "stream",
     "text": [
      "Job Status: job has successfully run\n",
      "\n",
      " QFT with inverse QFT Output\n",
      "------------------------------\n",
      "{'10101': 1000}\n"
     ]
    }
   ],
   "source": [
    "job = execute(circuit, backend, shots=1000)\n",
    "job_monitor(job)\n",
    "counts = job.result().get_counts()\n",
    "print(\"\\n QFT with inverse QFT Output\")\n",
    "print(\"------------------------------\")\n",
    "print(counts)"
   ]
  }
 ],
 "metadata": {
  "kernelspec": {
   "display_name": "Python 3",
   "language": "python",
   "name": "python3"
  },
  "language_info": {
   "codemirror_mode": {
    "name": "ipython",
    "version": 3
   },
   "file_extension": ".py",
   "mimetype": "text/x-python",
   "name": "python",
   "nbconvert_exporter": "python",
   "pygments_lexer": "ipython3",
   "version": "3.11.3"
  }
 },
 "nbformat": 4,
 "nbformat_minor": 2
}
